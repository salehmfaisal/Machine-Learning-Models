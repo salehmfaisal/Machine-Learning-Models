{
 "cells": [
  {
   "cell_type": "markdown",
   "metadata": {},
   "source": [
    "### Making ROC curve for assessing model predictive preformance "
   ]
  },
  {
   "cell_type": "markdown",
   "metadata": {},
   "source": [
    "#### Abu Saleh Mosa Faisal\n",
    "#### Graduate Student Researcher"
   ]
  },
  {
   "cell_type": "markdown",
   "metadata": {},
   "source": [
    "The ROC curve summarizes the prediction performance of a classification model at all classification thresholds. Particularly, the ROC curve plots the False Positive Rate (FPR) on the X-axis and the True Positive Rate (TPR) on the Y-axis.\n",
    "\n",
    "$\\text{TPR (Sensitivity)} = \\frac{TP}{TP + FN}$"
   ]
  },
  {
   "cell_type": "markdown",
   "metadata": {},
   "source": [
    "$\\text{FPR (1 - Specificity)} = \\frac{FP}{TN + FP}$"
   ]
  },
  {
   "cell_type": "markdown",
   "metadata": {},
   "source": [
    "### Preparing synthetic dataset"
   ]
  },
  {
   "cell_type": "code",
   "execution_count": 2,
   "metadata": {},
   "outputs": [],
   "source": [
    "from sklearn.datasets import make_classification"
   ]
  },
  {
   "cell_type": "code",
   "execution_count": 3,
   "metadata": {},
   "outputs": [],
   "source": [
    "import numpy as np"
   ]
  },
  {
   "cell_type": "code",
   "execution_count": 4,
   "metadata": {},
   "outputs": [],
   "source": [
    "X, Y = make_classification(n_samples=2000, n_classes=2, n_features=10, random_state=0)"
   ]
  },
  {
   "cell_type": "markdown",
   "metadata": {},
   "source": [
    "#### Adding noise to make data more complex"
   ]
  },
  {
   "cell_type": "code",
   "execution_count": 5,
   "metadata": {},
   "outputs": [],
   "source": [
    "random_state = np.random.RandomState(0)\n",
    "n_samples, n_features = X.shape\n",
    "X = np.c_[X, random_state.randn(n_samples, 200 * n_features)]"
   ]
  },
  {
   "cell_type": "code",
   "execution_count": 6,
   "metadata": {},
   "outputs": [
    {
     "data": {
      "text/plain": [
       "array([[ 1.59436569,  1.03078626,  0.30247354, ...,  0.15843385,\n",
       "        -1.14190142, -1.31097037],\n",
       "       [ 2.72008521, -1.26597863,  0.1496603 , ..., -0.03057244,\n",
       "         1.57708821, -0.8128021 ],\n",
       "       [ 0.29445741, -1.26003514,  0.72045153, ..., -0.53788475,\n",
       "         0.39344443,  0.28651827],\n",
       "       ...,\n",
       "       [-0.83451804, -1.20244172,  0.16179069, ..., -0.01409412,\n",
       "         1.28756456, -0.6953778 ],\n",
       "       [ 1.3447604 , -1.22572926, -0.01121416, ...,  0.90499929,\n",
       "         0.51428298,  0.72148202],\n",
       "       [ 0.43037416, -1.25893395,  1.42065476, ..., -1.12554283,\n",
       "         0.95170926, -1.15237806]])"
      ]
     },
     "execution_count": 6,
     "metadata": {},
     "output_type": "execute_result"
    }
   ],
   "source": [
    "X"
   ]
  },
  {
   "cell_type": "code",
   "execution_count": 7,
   "metadata": {},
   "outputs": [
    {
     "data": {
      "text/plain": [
       "(2000, 2010)"
      ]
     },
     "execution_count": 7,
     "metadata": {},
     "output_type": "execute_result"
    }
   ],
   "source": [
    "X.shape"
   ]
  },
  {
   "cell_type": "markdown",
   "metadata": {},
   "source": [
    "#### Data splitting"
   ]
  },
  {
   "cell_type": "code",
   "execution_count": 8,
   "metadata": {},
   "outputs": [],
   "source": [
    "from sklearn.model_selection import train_test_split"
   ]
  },
  {
   "cell_type": "code",
   "execution_count": 9,
   "metadata": {},
   "outputs": [],
   "source": [
    "X_train, X_test, Y_train, Y_test = train_test_split(X, Y, test_size=.2, random_state=0)"
   ]
  },
  {
   "cell_type": "markdown",
   "metadata": {},
   "source": [
    "### Building Classification model"
   ]
  },
  {
   "cell_type": "code",
   "execution_count": 10,
   "metadata": {},
   "outputs": [],
   "source": [
    "from sklearn.ensemble import RandomForestClassifier\n",
    "from sklearn.naive_bayes import GaussianNB"
   ]
  },
  {
   "cell_type": "markdown",
   "metadata": {},
   "source": [
    "#### Random Forest"
   ]
  },
  {
   "cell_type": "code",
   "execution_count": 11,
   "metadata": {},
   "outputs": [
    {
     "data": {
      "text/plain": [
       "RandomForestClassifier(max_features=5, n_estimators=500)"
      ]
     },
     "execution_count": 11,
     "metadata": {},
     "output_type": "execute_result"
    }
   ],
   "source": [
    "rf = RandomForestClassifier(max_features=5, n_estimators=500)\n",
    "rf.fit(X_train, Y_train)"
   ]
  },
  {
   "cell_type": "markdown",
   "metadata": {},
   "source": [
    "#### Naive Bayes"
   ]
  },
  {
   "cell_type": "code",
   "execution_count": 12,
   "metadata": {},
   "outputs": [
    {
     "data": {
      "text/plain": [
       "GaussianNB()"
      ]
     },
     "execution_count": 12,
     "metadata": {},
     "output_type": "execute_result"
    }
   ],
   "source": [
    "nb = GaussianNB()\n",
    "nb.fit(X_train, Y_train)"
   ]
  },
  {
   "cell_type": "markdown",
   "metadata": {},
   "source": [
    "#### Prediction Probabilities"
   ]
  },
  {
   "cell_type": "code",
   "execution_count": 13,
   "metadata": {},
   "outputs": [],
   "source": [
    "r_probs = [0 for _ in range(len(Y_test))]\n",
    "rf_probs = rf.predict_proba(X_test)\n",
    "nb_probs = nb.predict_proba(X_test)"
   ]
  },
  {
   "cell_type": "code",
   "execution_count": 14,
   "metadata": {},
   "outputs": [],
   "source": [
    "rf_probs = rf_probs[:, 1]\n",
    "nb_probs = nb_probs[:, 1]"
   ]
  },
  {
   "cell_type": "code",
   "execution_count": 15,
   "metadata": {},
   "outputs": [
    {
     "data": {
      "text/plain": [
       "array([0.492, 0.476, 0.508, 0.446, 0.556, 0.524, 0.532, 0.532, 0.496,\n",
       "       0.514, 0.494, 0.43 , 0.54 , 0.498, 0.492, 0.452, 0.502, 0.556,\n",
       "       0.51 , 0.502, 0.492, 0.542, 0.47 , 0.506, 0.434, 0.55 , 0.488,\n",
       "       0.506, 0.526, 0.464, 0.534, 0.488, 0.486, 0.486, 0.466, 0.524,\n",
       "       0.516, 0.428, 0.506, 0.544, 0.5  , 0.462, 0.512, 0.488, 0.518,\n",
       "       0.53 , 0.548, 0.48 , 0.532, 0.532, 0.468, 0.448, 0.46 , 0.536,\n",
       "       0.55 , 0.512, 0.468, 0.486, 0.488, 0.53 , 0.538, 0.548, 0.494,\n",
       "       0.546, 0.502, 0.52 , 0.604, 0.466, 0.462, 0.49 , 0.534, 0.514,\n",
       "       0.474, 0.54 , 0.576, 0.488, 0.468, 0.542, 0.514, 0.456, 0.478,\n",
       "       0.516, 0.554, 0.534, 0.484, 0.486, 0.454, 0.484, 0.518, 0.526,\n",
       "       0.5  , 0.5  , 0.476, 0.468, 0.516, 0.46 , 0.446, 0.474, 0.534,\n",
       "       0.494, 0.518, 0.49 , 0.5  , 0.562, 0.524, 0.536, 0.502, 0.482,\n",
       "       0.496, 0.492, 0.492, 0.506, 0.55 , 0.5  , 0.514, 0.558, 0.476,\n",
       "       0.452, 0.488, 0.468, 0.49 , 0.488, 0.522, 0.508, 0.5  , 0.524,\n",
       "       0.508, 0.488, 0.418, 0.496, 0.48 , 0.504, 0.532, 0.514, 0.504,\n",
       "       0.492, 0.542, 0.55 , 0.522, 0.512, 0.462, 0.44 , 0.542, 0.566,\n",
       "       0.446, 0.476, 0.522, 0.532, 0.526, 0.462, 0.564, 0.51 , 0.502,\n",
       "       0.544, 0.496, 0.422, 0.55 , 0.528, 0.536, 0.476, 0.496, 0.486,\n",
       "       0.49 , 0.462, 0.458, 0.472, 0.498, 0.442, 0.462, 0.436, 0.462,\n",
       "       0.474, 0.524, 0.496, 0.528, 0.506, 0.558, 0.522, 0.504, 0.536,\n",
       "       0.476, 0.49 , 0.564, 0.53 , 0.54 , 0.5  , 0.484, 0.478, 0.454,\n",
       "       0.516, 0.538, 0.498, 0.548, 0.49 , 0.472, 0.482, 0.568, 0.464,\n",
       "       0.54 , 0.49 , 0.5  , 0.548, 0.488, 0.518, 0.474, 0.508, 0.588,\n",
       "       0.49 , 0.456, 0.532, 0.524, 0.54 , 0.596, 0.498, 0.466, 0.518,\n",
       "       0.456, 0.488, 0.524, 0.462, 0.528, 0.504, 0.51 , 0.496, 0.578,\n",
       "       0.528, 0.46 , 0.482, 0.474, 0.526, 0.56 , 0.524, 0.546, 0.546,\n",
       "       0.574, 0.5  , 0.546, 0.484, 0.476, 0.486, 0.526, 0.452, 0.46 ,\n",
       "       0.498, 0.552, 0.47 , 0.47 , 0.49 , 0.488, 0.504, 0.466, 0.514,\n",
       "       0.554, 0.446, 0.55 , 0.552, 0.468, 0.506, 0.51 , 0.55 , 0.546,\n",
       "       0.532, 0.494, 0.482, 0.47 , 0.498, 0.47 , 0.498, 0.504, 0.53 ,\n",
       "       0.502, 0.416, 0.492, 0.604, 0.522, 0.508, 0.448, 0.468, 0.512,\n",
       "       0.52 , 0.522, 0.508, 0.556, 0.52 , 0.522, 0.508, 0.478, 0.492,\n",
       "       0.508, 0.444, 0.466, 0.576, 0.57 , 0.498, 0.464, 0.488, 0.448,\n",
       "       0.506, 0.538, 0.578, 0.582, 0.532, 0.528, 0.54 , 0.48 , 0.48 ,\n",
       "       0.526, 0.452, 0.502, 0.556, 0.542, 0.492, 0.588, 0.532, 0.552,\n",
       "       0.472, 0.55 , 0.5  , 0.49 , 0.466, 0.486, 0.456, 0.494, 0.572,\n",
       "       0.534, 0.502, 0.482, 0.506, 0.552, 0.552, 0.478, 0.526, 0.488,\n",
       "       0.526, 0.456, 0.522, 0.492, 0.536, 0.466, 0.448, 0.442, 0.49 ,\n",
       "       0.494, 0.534, 0.504, 0.454, 0.476, 0.43 , 0.452, 0.484, 0.468,\n",
       "       0.482, 0.48 , 0.496, 0.478, 0.482, 0.472, 0.488, 0.48 , 0.526,\n",
       "       0.476, 0.514, 0.514, 0.514, 0.542, 0.496, 0.552, 0.476, 0.438,\n",
       "       0.472, 0.526, 0.492, 0.504, 0.528, 0.512, 0.51 , 0.48 , 0.49 ,\n",
       "       0.52 , 0.514, 0.464, 0.498, 0.482, 0.494, 0.474, 0.558, 0.49 ,\n",
       "       0.438, 0.528, 0.51 , 0.54 , 0.522, 0.452, 0.446, 0.514, 0.486,\n",
       "       0.492, 0.47 , 0.476, 0.488])"
      ]
     },
     "execution_count": 15,
     "metadata": {},
     "output_type": "execute_result"
    }
   ],
   "source": [
    "rf_probs"
   ]
  },
  {
   "cell_type": "markdown",
   "metadata": {},
   "source": [
    "#### Computing AUROC (Area Under ROC) and ROC Curve"
   ]
  },
  {
   "cell_type": "code",
   "execution_count": 16,
   "metadata": {},
   "outputs": [],
   "source": [
    "from sklearn.metrics import roc_curve, roc_auc_score"
   ]
  },
  {
   "cell_type": "code",
   "execution_count": 17,
   "metadata": {},
   "outputs": [],
   "source": [
    "r_auc = roc_auc_score(Y_test, r_probs)\n",
    "rf_auc = roc_auc_score(Y_test, rf_probs)\n",
    "nb_auc = roc_auc_score(Y_test, nb_probs)"
   ]
  },
  {
   "cell_type": "markdown",
   "metadata": {},
   "source": [
    "### Print AUROC scores"
   ]
  },
  {
   "cell_type": "code",
   "execution_count": 19,
   "metadata": {},
   "outputs": [
    {
     "name": "stdout",
     "output_type": "stream",
     "text": [
      "Random (chance) Prediction: AUROC = 0.500\n",
      "Random Forest: AUROC = 0.901\n",
      "Naive Bayes: AUROC = 0.993\n"
     ]
    }
   ],
   "source": [
    "print('Random (chance) Prediction: AUROC = %.3f' % (r_auc))\n",
    "print('Random Forest: AUROC = %.3f' % (rf_auc))\n",
    "print('Naive Bayes: AUROC = %.3f' % (nb_auc))"
   ]
  },
  {
   "cell_type": "markdown",
   "metadata": {},
   "source": [
    "#### Calculate ROC "
   ]
  },
  {
   "cell_type": "code",
   "execution_count": 20,
   "metadata": {},
   "outputs": [],
   "source": [
    "r_fpr, r_tpr, _ = roc_curve(Y_test, r_probs)\n",
    "rf_fpr, rf_tpr, _ = roc_curve(Y_test, rf_probs)\n",
    "nb_fpr, nb_tpr, _ = roc_curve(Y_test, nb_probs)"
   ]
  },
  {
   "cell_type": "markdown",
   "metadata": {},
   "source": [
    "### Plot the ROC Curve"
   ]
  },
  {
   "cell_type": "code",
   "execution_count": 21,
   "metadata": {},
   "outputs": [
    {
     "name": "stderr",
     "output_type": "stream",
     "text": [
      "In C:\\Users\\afais\\Anaconda3\\lib\\site-packages\\matplotlib\\mpl-data\\stylelib\\_classic_test.mplstyle: \n",
      "The text.latex.preview rcparam was deprecated in Matplotlib 3.3 and will be removed two minor releases later.\n",
      "In C:\\Users\\afais\\Anaconda3\\lib\\site-packages\\matplotlib\\mpl-data\\stylelib\\_classic_test.mplstyle: \n",
      "The mathtext.fallback_to_cm rcparam was deprecated in Matplotlib 3.3 and will be removed two minor releases later.\n",
      "In C:\\Users\\afais\\Anaconda3\\lib\\site-packages\\matplotlib\\mpl-data\\stylelib\\_classic_test.mplstyle: Support for setting the 'mathtext.fallback_to_cm' rcParam is deprecated since 3.3 and will be removed two minor releases later; use 'mathtext.fallback : 'cm' instead.\n",
      "In C:\\Users\\afais\\Anaconda3\\lib\\site-packages\\matplotlib\\mpl-data\\stylelib\\_classic_test.mplstyle: \n",
      "The validate_bool_maybe_none function was deprecated in Matplotlib 3.3 and will be removed two minor releases later.\n",
      "In C:\\Users\\afais\\Anaconda3\\lib\\site-packages\\matplotlib\\mpl-data\\stylelib\\_classic_test.mplstyle: \n",
      "The savefig.jpeg_quality rcparam was deprecated in Matplotlib 3.3 and will be removed two minor releases later.\n",
      "In C:\\Users\\afais\\Anaconda3\\lib\\site-packages\\matplotlib\\mpl-data\\stylelib\\_classic_test.mplstyle: \n",
      "The keymap.all_axes rcparam was deprecated in Matplotlib 3.3 and will be removed two minor releases later.\n",
      "In C:\\Users\\afais\\Anaconda3\\lib\\site-packages\\matplotlib\\mpl-data\\stylelib\\_classic_test.mplstyle: \n",
      "The animation.avconv_path rcparam was deprecated in Matplotlib 3.3 and will be removed two minor releases later.\n",
      "In C:\\Users\\afais\\Anaconda3\\lib\\site-packages\\matplotlib\\mpl-data\\stylelib\\_classic_test.mplstyle: \n",
      "The animation.avconv_args rcparam was deprecated in Matplotlib 3.3 and will be removed two minor releases later.\n"
     ]
    }
   ],
   "source": [
    "import matplotlib.pyplot as plt"
   ]
  },
  {
   "cell_type": "code",
   "execution_count": 22,
   "metadata": {},
   "outputs": [
    {
     "data": {
      "image/png": "[encoded data removed]",
      "text/plain": [
       "<Figure size 432x288 with 1 Axes>"
      ]
     },
     "metadata": {
      "needs_background": "light"
     },
     "output_type": "display_data"
    }
   ],
   "source": [
    "plt.plot(r_fpr, r_tpr, linestyle='--', label='Random prediction (AUROC = %0.3f)' % r_auc)\n",
    "plt.plot(rf_fpr, rf_tpr, marker='.', label='Random Forest (AUROC = %0.3f)' % rf_auc)\n",
    "plt.plot(nb_fpr, nb_tpr, marker='.', label='Naive Bayes (AUROC = %0.3f)' % nb_auc)\n",
    "\n",
    "# Title\n",
    "plt.title('ROC Plot')\n",
    "# Axis labels\n",
    "plt.xlabel('False Positive Rate')\n",
    "plt.ylabel('True Positive Rate')\n",
    "# Show legend\n",
    "plt.legend() # \n",
    "# Show plot\n",
    "plt.show()"
   ]
  },
  {
   "cell_type": "markdown",
   "metadata": {},
   "source": [
    "ROC curve is an important tool for model predictive efficiency measurement. "
   ]
  },
  {
   "cell_type": "code",
   "execution_count": 23,
   "metadata": {},
   "outputs": [
    {
     "name": "stdout",
     "output_type": "stream",
     "text": [
      "total 7528\n",
      "-rw-r--r-- 1 afais afais   46067 Aug 21 22:05 Compare Machine Learning Classifires.ipynb\n",
      "-rw-r--r-- 1 afais afais 3666346 Aug 22 00:46 Hyperparameters tunning for ML Models.ipynb\n",
      "-rw-r--r-- 1 afais afais   73124 Aug 22 02:04 Linear Regression Model.ipynb\n",
      "-rw-r--r-- 1 afais afais 3848923 Aug 22 16:42 Principal Component Analysis.ipynb\n",
      "-rw-r--r-- 1 afais afais   44693 Aug 23 13:32 Receiver Operating Charateristics (ROC) .ipynb\n",
      "-rw-r--r-- 1 afais afais   16423 Aug 19 15:53 iris-classification-random-forest.ipynb\n"
     ]
    }
   ],
   "source": [
    "! ls -l"
   ]
  },
  {
   "cell_type": "markdown",
   "metadata": {},
   "source": [
    "#### Save ROC plots"
   ]
  },
  {
   "cell_type": "code",
   "execution_count": 24,
   "metadata": {},
   "outputs": [],
   "source": [
    "from IPython.display import Image, display"
   ]
  },
  {
   "cell_type": "code",
   "execution_count": 25,
   "metadata": {},
   "outputs": [
    {
     "data": {
      "text/plain": [
       "<Figure size 432x288 with 0 Axes>"
      ]
     },
     "metadata": {},
     "output_type": "display_data"
    }
   ],
   "source": [
    "plt.savefig('roc.pdf')"
   ]
  },
  {
   "cell_type": "code",
   "execution_count": 26,
   "metadata": {},
   "outputs": [
    {
     "data": {
      "text/plain": [
       "<Figure size 432x288 with 0 Axes>"
      ]
     },
     "metadata": {},
     "output_type": "display_data"
    }
   ],
   "source": [
    "plt.savefig('roc.png')"
   ]
  },
  {
   "cell_type": "code",
   "execution_count": 27,
   "metadata": {},
   "outputs": [
    {
     "name": "stdout",
     "output_type": "stream",
     "text": [
      "total 7536\n",
      "-rw-r--r-- 1 afais afais   46067 Aug 21 22:05 Compare Machine Learning Classifires.ipynb\n",
      "-rw-r--r-- 1 afais afais 3666346 Aug 22 00:46 Hyperparameters tunning for ML Models.ipynb\n",
      "-rw-r--r-- 1 afais afais   73124 Aug 22 02:04 Linear Regression Model.ipynb\n",
      "-rw-r--r-- 1 afais afais 3848923 Aug 22 16:42 Principal Component Analysis.ipynb\n",
      "-rw-r--r-- 1 afais afais   44693 Aug 23 13:32 Receiver Operating Charateristics (ROC) .ipynb\n",
      "-rw-r--r-- 1 afais afais   16423 Aug 19 15:53 iris-classification-random-forest.ipynb\n",
      "-rw-r--r-- 1 afais afais    1247 Aug 23 13:33 roc.pdf\n",
      "-rw-r--r-- 1 afais afais    1257 Aug 23 13:33 roc.png\n"
     ]
    }
   ],
   "source": [
    "! ls -l"
   ]
  },
  {
   "cell_type": "code",
   "execution_count": null,
   "metadata": {},
   "outputs": [],
   "source": []
  }
 ],
 "metadata": {
  "kernelspec": {
   "display_name": "Python 3",
   "language": "python",
   "name": "python3"
  },
  "language_info": {
   "codemirror_mode": {
    "name": "ipython",
    "version": 3
   },
   "file_extension": ".py",
   "mimetype": "text/x-python",
   "name": "python",
   "nbconvert_exporter": "python",
   "pygments_lexer": "ipython3",
   "version": "3.7.4"
  }
 },
 "nbformat": 4,
 "nbformat_minor": 2
}
